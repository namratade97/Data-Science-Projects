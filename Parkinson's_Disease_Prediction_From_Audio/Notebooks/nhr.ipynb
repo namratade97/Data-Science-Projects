{
 "cells": [
  {
   "cell_type": "code",
   "execution_count": 1,
   "metadata": {},
   "outputs": [
    {
     "data": {
      "text/html": [
       "<div>\n",
       "<style scoped>\n",
       "    .dataframe tbody tr th:only-of-type {\n",
       "        vertical-align: middle;\n",
       "    }\n",
       "\n",
       "    .dataframe tbody tr th {\n",
       "        vertical-align: top;\n",
       "    }\n",
       "\n",
       "    .dataframe thead th {\n",
       "        text-align: right;\n",
       "    }\n",
       "</style>\n",
       "<table border=\"1\" class=\"dataframe\">\n",
       "  <thead>\n",
       "    <tr style=\"text-align: right;\">\n",
       "      <th></th>\n",
       "      <th>age</th>\n",
       "      <th>test_time</th>\n",
       "      <th>motor_UPDRS</th>\n",
       "      <th>total_UPDRS</th>\n",
       "      <th>Jitter(Absolute)</th>\n",
       "      <th>Jitter:RAP</th>\n",
       "      <th>Jitter:PPQ5</th>\n",
       "      <th>Jitter:DDP</th>\n",
       "      <th>Shimmer</th>\n",
       "      <th>Shimmer(dB)</th>\n",
       "      <th>Shimmer:APQ3</th>\n",
       "      <th>Shimmer:APQ5</th>\n",
       "      <th>Shimmer:APQ11</th>\n",
       "      <th>Shimmer:DDA</th>\n",
       "      <th>NHR</th>\n",
       "      <th>HNR</th>\n",
       "      <th>RPDE</th>\n",
       "      <th>DFA</th>\n",
       "      <th>PPE</th>\n",
       "      <th>Jitter(Percent)</th>\n",
       "    </tr>\n",
       "  </thead>\n",
       "  <tbody>\n",
       "    <tr>\n",
       "      <th>count</th>\n",
       "      <td>5863.000000</td>\n",
       "      <td>5863.000000</td>\n",
       "      <td>5863.000000</td>\n",
       "      <td>5863.000000</td>\n",
       "      <td>5863.000000</td>\n",
       "      <td>5863.000000</td>\n",
       "      <td>5863.000000</td>\n",
       "      <td>5863.000000</td>\n",
       "      <td>5863.000000</td>\n",
       "      <td>5863.000000</td>\n",
       "      <td>5863.000000</td>\n",
       "      <td>5863.000000</td>\n",
       "      <td>5863.000000</td>\n",
       "      <td>5863.000000</td>\n",
       "      <td>5863.000000</td>\n",
       "      <td>5863.000000</td>\n",
       "      <td>5863.000000</td>\n",
       "      <td>5863.000000</td>\n",
       "      <td>5863.000000</td>\n",
       "      <td>5863.000000</td>\n",
       "    </tr>\n",
       "    <tr>\n",
       "      <th>mean</th>\n",
       "      <td>64.814771</td>\n",
       "      <td>93.061538</td>\n",
       "      <td>21.289655</td>\n",
       "      <td>29.014090</td>\n",
       "      <td>0.000044</td>\n",
       "      <td>0.002988</td>\n",
       "      <td>0.003278</td>\n",
       "      <td>0.008965</td>\n",
       "      <td>0.034038</td>\n",
       "      <td>0.311012</td>\n",
       "      <td>0.017157</td>\n",
       "      <td>0.020149</td>\n",
       "      <td>0.027489</td>\n",
       "      <td>0.051470</td>\n",
       "      <td>0.032126</td>\n",
       "      <td>21.679527</td>\n",
       "      <td>0.541423</td>\n",
       "      <td>0.653252</td>\n",
       "      <td>0.219618</td>\n",
       "      <td>0.006156</td>\n",
       "    </tr>\n",
       "    <tr>\n",
       "      <th>std</th>\n",
       "      <td>8.827750</td>\n",
       "      <td>53.320896</td>\n",
       "      <td>8.133419</td>\n",
       "      <td>10.709966</td>\n",
       "      <td>0.000036</td>\n",
       "      <td>0.003126</td>\n",
       "      <td>0.003734</td>\n",
       "      <td>0.009378</td>\n",
       "      <td>0.025836</td>\n",
       "      <td>0.230310</td>\n",
       "      <td>0.013237</td>\n",
       "      <td>0.016672</td>\n",
       "      <td>0.020002</td>\n",
       "      <td>0.039710</td>\n",
       "      <td>0.059735</td>\n",
       "      <td>4.292521</td>\n",
       "      <td>0.101024</td>\n",
       "      <td>0.070955</td>\n",
       "      <td>0.091494</td>\n",
       "      <td>0.005628</td>\n",
       "    </tr>\n",
       "    <tr>\n",
       "      <th>min</th>\n",
       "      <td>36.000000</td>\n",
       "      <td>0.395830</td>\n",
       "      <td>5.037700</td>\n",
       "      <td>7.000000</td>\n",
       "      <td>0.000002</td>\n",
       "      <td>0.000330</td>\n",
       "      <td>0.000430</td>\n",
       "      <td>0.000980</td>\n",
       "      <td>0.003060</td>\n",
       "      <td>0.026000</td>\n",
       "      <td>0.001610</td>\n",
       "      <td>0.001940</td>\n",
       "      <td>0.002490</td>\n",
       "      <td>0.004840</td>\n",
       "      <td>0.000286</td>\n",
       "      <td>1.659000</td>\n",
       "      <td>0.151020</td>\n",
       "      <td>0.514040</td>\n",
       "      <td>0.021983</td>\n",
       "      <td>0.000830</td>\n",
       "    </tr>\n",
       "    <tr>\n",
       "      <th>25%</th>\n",
       "      <td>58.000000</td>\n",
       "      <td>47.335500</td>\n",
       "      <td>15.000000</td>\n",
       "      <td>21.362000</td>\n",
       "      <td>0.000022</td>\n",
       "      <td>0.001580</td>\n",
       "      <td>0.001825</td>\n",
       "      <td>0.004730</td>\n",
       "      <td>0.019110</td>\n",
       "      <td>0.175000</td>\n",
       "      <td>0.009280</td>\n",
       "      <td>0.010790</td>\n",
       "      <td>0.015660</td>\n",
       "      <td>0.027830</td>\n",
       "      <td>0.010953</td>\n",
       "      <td>19.404000</td>\n",
       "      <td>0.469695</td>\n",
       "      <td>0.596100</td>\n",
       "      <td>0.156385</td>\n",
       "      <td>0.003580</td>\n",
       "    </tr>\n",
       "    <tr>\n",
       "      <th>50%</th>\n",
       "      <td>65.000000</td>\n",
       "      <td>91.754000</td>\n",
       "      <td>20.871000</td>\n",
       "      <td>27.522000</td>\n",
       "      <td>0.000035</td>\n",
       "      <td>0.002250</td>\n",
       "      <td>0.002490</td>\n",
       "      <td>0.006750</td>\n",
       "      <td>0.027530</td>\n",
       "      <td>0.253000</td>\n",
       "      <td>0.013700</td>\n",
       "      <td>0.015940</td>\n",
       "      <td>0.022710</td>\n",
       "      <td>0.041110</td>\n",
       "      <td>0.018448</td>\n",
       "      <td>21.917000</td>\n",
       "      <td>0.542250</td>\n",
       "      <td>0.643550</td>\n",
       "      <td>0.205560</td>\n",
       "      <td>0.004900</td>\n",
       "    </tr>\n",
       "    <tr>\n",
       "      <th>75%</th>\n",
       "      <td>72.000000</td>\n",
       "      <td>138.460000</td>\n",
       "      <td>27.594000</td>\n",
       "      <td>36.400500</td>\n",
       "      <td>0.000053</td>\n",
       "      <td>0.003290</td>\n",
       "      <td>0.003470</td>\n",
       "      <td>0.009880</td>\n",
       "      <td>0.039775</td>\n",
       "      <td>0.365000</td>\n",
       "      <td>0.020605</td>\n",
       "      <td>0.023775</td>\n",
       "      <td>0.032725</td>\n",
       "      <td>0.061805</td>\n",
       "      <td>0.031464</td>\n",
       "      <td>24.445500</td>\n",
       "      <td>0.614045</td>\n",
       "      <td>0.711480</td>\n",
       "      <td>0.264590</td>\n",
       "      <td>0.006800</td>\n",
       "    </tr>\n",
       "    <tr>\n",
       "      <th>max</th>\n",
       "      <td>85.000000</td>\n",
       "      <td>215.490000</td>\n",
       "      <td>39.511000</td>\n",
       "      <td>54.992000</td>\n",
       "      <td>0.000446</td>\n",
       "      <td>0.057540</td>\n",
       "      <td>0.069560</td>\n",
       "      <td>0.172630</td>\n",
       "      <td>0.268630</td>\n",
       "      <td>2.107000</td>\n",
       "      <td>0.162670</td>\n",
       "      <td>0.167020</td>\n",
       "      <td>0.275460</td>\n",
       "      <td>0.488020</td>\n",
       "      <td>0.748260</td>\n",
       "      <td>37.875000</td>\n",
       "      <td>0.966080</td>\n",
       "      <td>0.865600</td>\n",
       "      <td>0.731730</td>\n",
       "      <td>0.099990</td>\n",
       "    </tr>\n",
       "  </tbody>\n",
       "</table>\n",
       "</div>"
      ],
      "text/plain": [
       "               age    test_time  motor_UPDRS  total_UPDRS  Jitter(Absolute)  \\\n",
       "count  5863.000000  5863.000000  5863.000000  5863.000000       5863.000000   \n",
       "mean     64.814771    93.061538    21.289655    29.014090          0.000044   \n",
       "std       8.827750    53.320896     8.133419    10.709966          0.000036   \n",
       "min      36.000000     0.395830     5.037700     7.000000          0.000002   \n",
       "25%      58.000000    47.335500    15.000000    21.362000          0.000022   \n",
       "50%      65.000000    91.754000    20.871000    27.522000          0.000035   \n",
       "75%      72.000000   138.460000    27.594000    36.400500          0.000053   \n",
       "max      85.000000   215.490000    39.511000    54.992000          0.000446   \n",
       "\n",
       "        Jitter:RAP  Jitter:PPQ5   Jitter:DDP      Shimmer  Shimmer(dB)  \\\n",
       "count  5863.000000  5863.000000  5863.000000  5863.000000  5863.000000   \n",
       "mean      0.002988     0.003278     0.008965     0.034038     0.311012   \n",
       "std       0.003126     0.003734     0.009378     0.025836     0.230310   \n",
       "min       0.000330     0.000430     0.000980     0.003060     0.026000   \n",
       "25%       0.001580     0.001825     0.004730     0.019110     0.175000   \n",
       "50%       0.002250     0.002490     0.006750     0.027530     0.253000   \n",
       "75%       0.003290     0.003470     0.009880     0.039775     0.365000   \n",
       "max       0.057540     0.069560     0.172630     0.268630     2.107000   \n",
       "\n",
       "       Shimmer:APQ3  Shimmer:APQ5  Shimmer:APQ11  Shimmer:DDA          NHR  \\\n",
       "count   5863.000000   5863.000000    5863.000000  5863.000000  5863.000000   \n",
       "mean       0.017157      0.020149       0.027489     0.051470     0.032126   \n",
       "std        0.013237      0.016672       0.020002     0.039710     0.059735   \n",
       "min        0.001610      0.001940       0.002490     0.004840     0.000286   \n",
       "25%        0.009280      0.010790       0.015660     0.027830     0.010953   \n",
       "50%        0.013700      0.015940       0.022710     0.041110     0.018448   \n",
       "75%        0.020605      0.023775       0.032725     0.061805     0.031464   \n",
       "max        0.162670      0.167020       0.275460     0.488020     0.748260   \n",
       "\n",
       "               HNR         RPDE          DFA          PPE  Jitter(Percent)  \n",
       "count  5863.000000  5863.000000  5863.000000  5863.000000      5863.000000  \n",
       "mean     21.679527     0.541423     0.653252     0.219618         0.006156  \n",
       "std       4.292521     0.101024     0.070955     0.091494         0.005628  \n",
       "min       1.659000     0.151020     0.514040     0.021983         0.000830  \n",
       "25%      19.404000     0.469695     0.596100     0.156385         0.003580  \n",
       "50%      21.917000     0.542250     0.643550     0.205560         0.004900  \n",
       "75%      24.445500     0.614045     0.711480     0.264590         0.006800  \n",
       "max      37.875000     0.966080     0.865600     0.731730         0.099990  "
      ]
     },
     "execution_count": 1,
     "metadata": {},
     "output_type": "execute_result"
    }
   ],
   "source": [
    "import numpy as np\n",
    "import pandas as pd\n",
    "import seaborn as sns\n",
    "import statsmodels.api as sm\n",
    "import sklearn as s\n",
    "from sklearn import datasets,linear_model\n",
    "from sklearn.linear_model import lasso_path\n",
    "import matplotlib.pyplot as plt\n",
    "from sklearn.model_selection import train_test_split\n",
    "#from matplotlib import pyplot as plt\n",
    "\n",
    "df=pd.read_csv('E:\\Project_Data/Data.csv',sep=',',header=0)\n",
    "df = df[df.test_time >= 0] #removing data with negative testtime\n",
    "df.describe()"
   ]
  },
  {
   "cell_type": "code",
   "execution_count": 3,
   "metadata": {},
   "outputs": [
    {
     "data": {
      "text/html": [
       "<div>\n",
       "<style scoped>\n",
       "    .dataframe tbody tr th:only-of-type {\n",
       "        vertical-align: middle;\n",
       "    }\n",
       "\n",
       "    .dataframe tbody tr th {\n",
       "        vertical-align: top;\n",
       "    }\n",
       "\n",
       "    .dataframe thead th {\n",
       "        text-align: right;\n",
       "    }\n",
       "</style>\n",
       "<table border=\"1\" class=\"dataframe\">\n",
       "  <thead>\n",
       "    <tr style=\"text-align: right;\">\n",
       "      <th></th>\n",
       "      <th>age</th>\n",
       "      <th>test_time</th>\n",
       "      <th>Jitter(Absolute)</th>\n",
       "      <th>Shimmer:APQ11</th>\n",
       "      <th>HNR</th>\n",
       "    </tr>\n",
       "  </thead>\n",
       "  <tbody>\n",
       "    <tr>\n",
       "      <th>0</th>\n",
       "      <td>72</td>\n",
       "      <td>5.6431</td>\n",
       "      <td>0.000034</td>\n",
       "      <td>0.01662</td>\n",
       "      <td>21.640</td>\n",
       "    </tr>\n",
       "    <tr>\n",
       "      <th>1</th>\n",
       "      <td>72</td>\n",
       "      <td>12.6660</td>\n",
       "      <td>0.000017</td>\n",
       "      <td>0.01689</td>\n",
       "      <td>27.183</td>\n",
       "    </tr>\n",
       "    <tr>\n",
       "      <th>2</th>\n",
       "      <td>72</td>\n",
       "      <td>19.6810</td>\n",
       "      <td>0.000025</td>\n",
       "      <td>0.01458</td>\n",
       "      <td>23.047</td>\n",
       "    </tr>\n",
       "    <tr>\n",
       "      <th>3</th>\n",
       "      <td>72</td>\n",
       "      <td>25.6470</td>\n",
       "      <td>0.000027</td>\n",
       "      <td>0.01963</td>\n",
       "      <td>24.445</td>\n",
       "    </tr>\n",
       "    <tr>\n",
       "      <th>4</th>\n",
       "      <td>72</td>\n",
       "      <td>33.6420</td>\n",
       "      <td>0.000020</td>\n",
       "      <td>0.01819</td>\n",
       "      <td>26.126</td>\n",
       "    </tr>\n",
       "  </tbody>\n",
       "</table>\n",
       "</div>"
      ],
      "text/plain": [
       "   age  test_time  Jitter(Absolute)  Shimmer:APQ11     HNR\n",
       "0   72     5.6431          0.000034        0.01662  21.640\n",
       "1   72    12.6660          0.000017        0.01689  27.183\n",
       "2   72    19.6810          0.000025        0.01458  23.047\n",
       "3   72    25.6470          0.000027        0.01963  24.445\n",
       "4   72    33.6420          0.000020        0.01819  26.126"
      ]
     },
     "execution_count": 3,
     "metadata": {},
     "output_type": "execute_result"
    }
   ],
   "source": [
    "from sklearn.model_selection import train_test_split\n",
    "from sklearn.preprocessing import MinMaxScaler\n",
    "X = df.drop([\"motor_UPDRS\",\"total_UPDRS\", \"Jitter(Percent)\", \"Jitter:RAP\", \"Jitter:PPQ5\", \"Jitter:DDP\", \"Shimmer\", \"Shimmer(dB)\", \"Shimmer:APQ3\", \"Shimmer:APQ5\", \"Shimmer:DDA\",\"NHR\",\"RPDE\",\"DFA\",\"PPE\"], axis=1)\n",
    "X.head()"
   ]
  },
  {
   "cell_type": "code",
   "execution_count": 18,
   "metadata": {},
   "outputs": [
    {
     "data": {
      "text/plain": [
       "0    0.014290\n",
       "1    0.011112\n",
       "2    0.020220\n",
       "3    0.027837\n",
       "4    0.011625\n",
       "Name: NHR, dtype: float64"
      ]
     },
     "execution_count": 18,
     "metadata": {},
     "output_type": "execute_result"
    }
   ],
   "source": [
    "#Y = df.drop([\"motor_UPDRS\",\"total_UPDRS\", \"Jitter(Percent)\", \"Jitter:RAP\", \"Jitter:PPQ5\", \"Jitter:DDP\", \"Shimmer\", \"Shimmer(dB)\", \"Shimmer:APQ3\", \"Shimmer:APQ5\", \"Shimmer:DDA\",\"age\",\"test_time\",\"Jitter(Absolute)\",\"Shimmer:APQ11\",\"HNR\"], axis=1)\n",
    "Y= df[\"NHR\"]\n",
    "Y.head()"
   ]
  },
  {
   "cell_type": "code",
   "execution_count": 19,
   "metadata": {},
   "outputs": [
    {
     "name": "stderr",
     "output_type": "stream",
     "text": [
      "C:\\Users\\Namrata\\Anaconda3\\lib\\site-packages\\ipykernel_launcher.py:2: FutureWarning: Method .as_matrix will be removed in a future version. Use .values instead.\n",
      "  \n",
      "C:\\Users\\Namrata\\Anaconda3\\lib\\site-packages\\ipykernel_launcher.py:3: FutureWarning: Method .as_matrix will be removed in a future version. Use .values instead.\n",
      "  This is separate from the ipykernel package so we can avoid doing imports until\n"
     ]
    }
   ],
   "source": [
    "# Converts target and features to numpy arrays for sklearn API\n",
    "target_y = Y.as_matrix()\n",
    "features_x = X.as_matrix()"
   ]
  },
  {
   "cell_type": "code",
   "execution_count": 20,
   "metadata": {},
   "outputs": [],
   "source": [
    "# Split into train and test sets\n",
    "X_train, X_test, Y_train, Y_test = train_test_split(features_x, target_y, test_size=0.18, random_state=0)\n"
   ]
  },
  {
   "cell_type": "code",
   "execution_count": 21,
   "metadata": {},
   "outputs": [
    {
     "data": {
      "text/plain": [
       "array([-0.00406305,  0.02980486,  0.01086987,  0.03852816, -0.00650895])"
      ]
     },
     "execution_count": 21,
     "metadata": {},
     "output_type": "execute_result"
    }
   ],
   "source": [
    "lm = linear_model.LinearRegression() #LinearRegression apply\n",
    "model = lm.fit(X_train, Y_train) #actual \"learning\" happens here\n",
    "predictions = lm.predict(X_test)\n",
    "predictions[0:5]"
   ]
  },
  {
   "cell_type": "code",
   "execution_count": 22,
   "metadata": {},
   "outputs": [
    {
     "data": {
      "text/plain": [
       "0.6289670587329208"
      ]
     },
     "execution_count": 22,
     "metadata": {},
     "output_type": "execute_result"
    }
   ],
   "source": [
    "from sklearn import model_selection\n",
    "from sklearn.model_selection import train_test_split,cross_val_score\n",
    "lm1=linear_model.LinearRegression()  #LinearRegression\n",
    "s_lm=model_selection.cross_val_score(lm1,X_train,Y_train,scoring=\"r2\",cv=5)\n",
    "s_lm.mean()"
   ]
  },
  {
   "cell_type": "code",
   "execution_count": 23,
   "metadata": {},
   "outputs": [
    {
     "data": {
      "text/plain": [
       "array([0.0156445, 0.02084  , 0.017767 , 0.019494 , 0.005883 ])"
      ]
     },
     "execution_count": 23,
     "metadata": {},
     "output_type": "execute_result"
    }
   ],
   "source": [
    "# import the regressor \n",
    "from sklearn.tree import DecisionTreeRegressor #DecisionTreeRegression\n",
    "\n",
    "# create a regressor object \n",
    "regressor = DecisionTreeRegressor(random_state = 0) \n",
    "\n",
    "# fit the regressor with X and Y data \n",
    "regressor.fit(X_train, Y_train)\n",
    "predictions1 = regressor.predict(X_test)\n",
    "predictions1[0:5]"
   ]
  },
  {
   "cell_type": "code",
   "execution_count": 24,
   "metadata": {},
   "outputs": [
    {
     "data": {
      "text/plain": [
       "0.862575721856372"
      ]
     },
     "execution_count": 24,
     "metadata": {},
     "output_type": "execute_result"
    }
   ],
   "source": [
    "from sklearn import tree #DecisionTreeRegression\n",
    "tr1=tree.DecisionTreeRegressor()\n",
    "s_tr=model_selection.cross_val_score(tr1,X_train,Y_train,scoring=\"r2\",cv=5)\n",
    "s_tr.mean()"
   ]
  },
  {
   "cell_type": "code",
   "execution_count": 25,
   "metadata": {},
   "outputs": [
    {
     "data": {
      "text/plain": [
       "0.8436806701481143"
      ]
     },
     "execution_count": 25,
     "metadata": {},
     "output_type": "execute_result"
    }
   ],
   "source": [
    "from sklearn.metrics import r2_score #DecisionTreeR2\n",
    "r2_score(Y_test, predictions1)"
   ]
  },
  {
   "cell_type": "code",
   "execution_count": 31,
   "metadata": {},
   "outputs": [
    {
     "name": "stdout",
     "output_type": "stream",
     "text": [
      "0.02087179943941631\n"
     ]
    }
   ],
   "source": [
    "from sklearn.metrics import mean_squared_error #DecisionTreeRMSE\n",
    "from math import sqrt\n",
    "\n",
    "rms2 = sqrt(mean_squared_error(Y_test, predictions1))\n",
    "print(rms2)\n"
   ]
  },
  {
   "cell_type": "code",
   "execution_count": 32,
   "metadata": {},
   "outputs": [
    {
     "data": {
      "text/plain": [
       "0.01115069700689935"
      ]
     },
     "execution_count": 32,
     "metadata": {},
     "output_type": "execute_result"
    }
   ],
   "source": [
    "from sklearn import metrics #DecisionTreeRegressionMAE\n",
    "from sklearn.metrics import mean_absolute_error\n",
    "mean_absolute_error(Y_test, predictions1)"
   ]
  },
  {
   "cell_type": "code",
   "execution_count": 33,
   "metadata": {},
   "outputs": [
    {
     "data": {
      "text/plain": [
       "0.8436835951666449"
      ]
     },
     "execution_count": 33,
     "metadata": {},
     "output_type": "execute_result"
    }
   ],
   "source": [
    "from sklearn.metrics import explained_variance_score #The best possible score is 1.0, lower values are worse.\n",
    "explained_variance_score(Y_test, predictions1) #DecisionTreeEVS"
   ]
  },
  {
   "cell_type": "code",
   "execution_count": null,
   "metadata": {},
   "outputs": [],
   "source": []
  },
  {
   "cell_type": "code",
   "execution_count": null,
   "metadata": {},
   "outputs": [],
   "source": []
  },
  {
   "cell_type": "code",
   "execution_count": null,
   "metadata": {},
   "outputs": [],
   "source": []
  },
  {
   "cell_type": "code",
   "execution_count": 26,
   "metadata": {},
   "outputs": [
    {
     "data": {
      "text/plain": [
       "array([0.01228921, 0.02019452, 0.01515653, 0.02771991, 0.00835362])"
      ]
     },
     "execution_count": 26,
     "metadata": {},
     "output_type": "execute_result"
    }
   ],
   "source": [
    "from sklearn.ensemble import RandomForestRegressor #RandomForestRegression\n",
    "\n",
    "regressor1 = RandomForestRegressor(n_estimators=800, random_state=1)  \n",
    "regressor1.fit(X_train, Y_train)  \n",
    "predictions2= regressor1.predict(X_test)\n",
    "predictions2[0:5]"
   ]
  },
  {
   "cell_type": "code",
   "execution_count": 13,
   "metadata": {},
   "outputs": [
    {
     "name": "stderr",
     "output_type": "stream",
     "text": [
      "C:\\Users\\Namrata\\Anaconda3\\lib\\site-packages\\sklearn\\ensemble\\forest.py:246: FutureWarning: The default value of n_estimators will change from 10 in version 0.20 to 100 in 0.22.\n",
      "  \"10 in version 0.20 to 100 in 0.22.\", FutureWarning)\n",
      "C:\\Users\\Namrata\\Anaconda3\\lib\\site-packages\\sklearn\\ensemble\\forest.py:246: FutureWarning: The default value of n_estimators will change from 10 in version 0.20 to 100 in 0.22.\n",
      "  \"10 in version 0.20 to 100 in 0.22.\", FutureWarning)\n",
      "C:\\Users\\Namrata\\Anaconda3\\lib\\site-packages\\sklearn\\ensemble\\forest.py:246: FutureWarning: The default value of n_estimators will change from 10 in version 0.20 to 100 in 0.22.\n",
      "  \"10 in version 0.20 to 100 in 0.22.\", FutureWarning)\n",
      "C:\\Users\\Namrata\\Anaconda3\\lib\\site-packages\\sklearn\\ensemble\\forest.py:246: FutureWarning: The default value of n_estimators will change from 10 in version 0.20 to 100 in 0.22.\n",
      "  \"10 in version 0.20 to 100 in 0.22.\", FutureWarning)\n",
      "C:\\Users\\Namrata\\Anaconda3\\lib\\site-packages\\sklearn\\ensemble\\forest.py:246: FutureWarning: The default value of n_estimators will change from 10 in version 0.20 to 100 in 0.22.\n",
      "  \"10 in version 0.20 to 100 in 0.22.\", FutureWarning)\n"
     ]
    },
    {
     "data": {
      "text/plain": [
       "0.7366429967412382"
      ]
     },
     "execution_count": 13,
     "metadata": {},
     "output_type": "execute_result"
    }
   ],
   "source": [
    "from sklearn import ensemble\n",
    "rnf1=ensemble.RandomForestRegressor()\n",
    "s_rnf=model_selection.cross_val_score(rnf1,X_train,Y_train,scoring=\"r2\",cv=5)\n",
    "s_rnf.mean()"
   ]
  },
  {
   "cell_type": "code",
   "execution_count": 27,
   "metadata": {},
   "outputs": [
    {
     "data": {
      "text/plain": [
       "array([0.01398055, 0.02211727, 0.00966415, 0.02619989, 0.01307886])"
      ]
     },
     "execution_count": 27,
     "metadata": {},
     "output_type": "execute_result"
    }
   ],
   "source": [
    "from sklearn.preprocessing import PolynomialFeatures #PolynomialRegression\n",
    "from sklearn.linear_model import LinearRegression\n",
    "# PolynomialFeatures (prepreprocessing)\n",
    "poly = PolynomialFeatures(degree=2)\n",
    "X_ = poly.fit_transform(X_train)\n",
    "X_test_ = poly.fit_transform(X_test)\n",
    "# Instantiate\n",
    "lg = LinearRegression()\n",
    "\n",
    "# Fit\n",
    "lg.fit(X_, Y_train)\n",
    "\n",
    "# Obtain coefficients\n",
    "lg.coef_\n",
    "# Predict\n",
    "predictions3=lg.predict(X_test_)\n",
    "predictions3[0:5]"
   ]
  },
  {
   "cell_type": "code",
   "execution_count": 28,
   "metadata": {},
   "outputs": [
    {
     "data": {
      "text/plain": [
       "0.860700063853097"
      ]
     },
     "execution_count": 28,
     "metadata": {},
     "output_type": "execute_result"
    }
   ],
   "source": [
    "from sklearn.metrics import r2_score #PolynomialRegressionR2Score\n",
    "r2_score(Y_test, predictions3)"
   ]
  },
  {
   "cell_type": "code",
   "execution_count": 34,
   "metadata": {},
   "outputs": [
    {
     "name": "stdout",
     "output_type": "stream",
     "text": [
      "0.019702848107635926\n"
     ]
    }
   ],
   "source": [
    "from sklearn.metrics import mean_squared_error #PolynomialRMSE\n",
    "from math import sqrt\n",
    "\n",
    "rms4 = sqrt(mean_squared_error(Y_test, predictions3))\n",
    "print(rms4)\n"
   ]
  },
  {
   "cell_type": "code",
   "execution_count": 35,
   "metadata": {},
   "outputs": [
    {
     "data": {
      "text/plain": [
       "0.011547711317927763"
      ]
     },
     "execution_count": 35,
     "metadata": {},
     "output_type": "execute_result"
    }
   ],
   "source": [
    "from sklearn import metrics #PolynomialRegressionMAE\n",
    "from sklearn.metrics import mean_absolute_error\n",
    "mean_absolute_error(Y_test, predictions3)"
   ]
  },
  {
   "cell_type": "code",
   "execution_count": 37,
   "metadata": {},
   "outputs": [
    {
     "data": {
      "text/plain": [
       "0.8608201960030268"
      ]
     },
     "execution_count": 37,
     "metadata": {},
     "output_type": "execute_result"
    }
   ],
   "source": [
    "from sklearn.metrics import explained_variance_score #The best possible score is 1.0, lower values are worse.\n",
    "explained_variance_score(Y_test, predictions3) #Polynomial EVS"
   ]
  },
  {
   "cell_type": "code",
   "execution_count": null,
   "metadata": {},
   "outputs": [],
   "source": []
  },
  {
   "cell_type": "code",
   "execution_count": 29,
   "metadata": {},
   "outputs": [
    {
     "data": {
      "text/plain": [
       "array([0.0088905, 0.030022 , 0.015502 , 0.035826 , 0.009835 ])"
      ]
     },
     "execution_count": 29,
     "metadata": {},
     "output_type": "execute_result"
    }
   ],
   "source": [
    "from sklearn.neighbors import KNeighborsRegressor #KNeighboursRegression\n",
    "neigh = KNeighborsRegressor(n_neighbors=2)\n",
    "neigh.fit(X_train, Y_train) \n",
    "KNeighborsRegressor(...)\n",
    "predictions4=(neigh.predict(X_test))\n",
    "predictions4[0:5]"
   ]
  },
  {
   "cell_type": "code",
   "execution_count": 30,
   "metadata": {},
   "outputs": [
    {
     "data": {
      "text/plain": [
       "0.7699736051825455"
      ]
     },
     "execution_count": 30,
     "metadata": {},
     "output_type": "execute_result"
    }
   ],
   "source": [
    "from sklearn import neighbors #KNeighborsRegression\n",
    "knn1=neighbors.KNeighborsRegressor()\n",
    "s_knn=model_selection.cross_val_score(knn1,X_train,Y_train,scoring=\"r2\",cv=5)\n",
    "s_knn.mean()"
   ]
  },
  {
   "cell_type": "code",
   "execution_count": null,
   "metadata": {},
   "outputs": [],
   "source": []
  }
 ],
 "metadata": {
  "kernelspec": {
   "display_name": "Python 3",
   "language": "python",
   "name": "python3"
  },
  "language_info": {
   "codemirror_mode": {
    "name": "ipython",
    "version": 3
   },
   "file_extension": ".py",
   "mimetype": "text/x-python",
   "name": "python",
   "nbconvert_exporter": "python",
   "pygments_lexer": "ipython3",
   "version": "3.7.1"
  }
 },
 "nbformat": 4,
 "nbformat_minor": 2
}
