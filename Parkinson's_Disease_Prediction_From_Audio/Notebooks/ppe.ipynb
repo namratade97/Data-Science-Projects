{
 "cells": [
  {
   "cell_type": "code",
   "execution_count": 1,
   "metadata": {},
   "outputs": [
    {
     "data": {
      "text/html": [
       "<div>\n",
       "<style scoped>\n",
       "    .dataframe tbody tr th:only-of-type {\n",
       "        vertical-align: middle;\n",
       "    }\n",
       "\n",
       "    .dataframe tbody tr th {\n",
       "        vertical-align: top;\n",
       "    }\n",
       "\n",
       "    .dataframe thead th {\n",
       "        text-align: right;\n",
       "    }\n",
       "</style>\n",
       "<table border=\"1\" class=\"dataframe\">\n",
       "  <thead>\n",
       "    <tr style=\"text-align: right;\">\n",
       "      <th></th>\n",
       "      <th>age</th>\n",
       "      <th>test_time</th>\n",
       "      <th>motor_UPDRS</th>\n",
       "      <th>total_UPDRS</th>\n",
       "      <th>Jitter(Absolute)</th>\n",
       "      <th>Jitter:RAP</th>\n",
       "      <th>Jitter:PPQ5</th>\n",
       "      <th>Jitter:DDP</th>\n",
       "      <th>Shimmer</th>\n",
       "      <th>Shimmer(dB)</th>\n",
       "      <th>Shimmer:APQ3</th>\n",
       "      <th>Shimmer:APQ5</th>\n",
       "      <th>Shimmer:APQ11</th>\n",
       "      <th>Shimmer:DDA</th>\n",
       "      <th>NHR</th>\n",
       "      <th>HNR</th>\n",
       "      <th>RPDE</th>\n",
       "      <th>DFA</th>\n",
       "      <th>PPE</th>\n",
       "      <th>Jitter(Percent)</th>\n",
       "    </tr>\n",
       "  </thead>\n",
       "  <tbody>\n",
       "    <tr>\n",
       "      <th>count</th>\n",
       "      <td>5863.000000</td>\n",
       "      <td>5863.000000</td>\n",
       "      <td>5863.000000</td>\n",
       "      <td>5863.000000</td>\n",
       "      <td>5863.000000</td>\n",
       "      <td>5863.000000</td>\n",
       "      <td>5863.000000</td>\n",
       "      <td>5863.000000</td>\n",
       "      <td>5863.000000</td>\n",
       "      <td>5863.000000</td>\n",
       "      <td>5863.000000</td>\n",
       "      <td>5863.000000</td>\n",
       "      <td>5863.000000</td>\n",
       "      <td>5863.000000</td>\n",
       "      <td>5863.000000</td>\n",
       "      <td>5863.000000</td>\n",
       "      <td>5863.000000</td>\n",
       "      <td>5863.000000</td>\n",
       "      <td>5863.000000</td>\n",
       "      <td>5863.000000</td>\n",
       "    </tr>\n",
       "    <tr>\n",
       "      <th>mean</th>\n",
       "      <td>64.814771</td>\n",
       "      <td>93.061538</td>\n",
       "      <td>21.289655</td>\n",
       "      <td>29.014090</td>\n",
       "      <td>0.000044</td>\n",
       "      <td>0.002988</td>\n",
       "      <td>0.003278</td>\n",
       "      <td>0.008965</td>\n",
       "      <td>0.034038</td>\n",
       "      <td>0.311012</td>\n",
       "      <td>0.017157</td>\n",
       "      <td>0.020149</td>\n",
       "      <td>0.027489</td>\n",
       "      <td>0.051470</td>\n",
       "      <td>0.032126</td>\n",
       "      <td>21.679527</td>\n",
       "      <td>0.541423</td>\n",
       "      <td>0.653252</td>\n",
       "      <td>0.219618</td>\n",
       "      <td>0.006156</td>\n",
       "    </tr>\n",
       "    <tr>\n",
       "      <th>std</th>\n",
       "      <td>8.827750</td>\n",
       "      <td>53.320896</td>\n",
       "      <td>8.133419</td>\n",
       "      <td>10.709966</td>\n",
       "      <td>0.000036</td>\n",
       "      <td>0.003126</td>\n",
       "      <td>0.003734</td>\n",
       "      <td>0.009378</td>\n",
       "      <td>0.025836</td>\n",
       "      <td>0.230310</td>\n",
       "      <td>0.013237</td>\n",
       "      <td>0.016672</td>\n",
       "      <td>0.020002</td>\n",
       "      <td>0.039710</td>\n",
       "      <td>0.059735</td>\n",
       "      <td>4.292521</td>\n",
       "      <td>0.101024</td>\n",
       "      <td>0.070955</td>\n",
       "      <td>0.091494</td>\n",
       "      <td>0.005628</td>\n",
       "    </tr>\n",
       "    <tr>\n",
       "      <th>min</th>\n",
       "      <td>36.000000</td>\n",
       "      <td>0.395830</td>\n",
       "      <td>5.037700</td>\n",
       "      <td>7.000000</td>\n",
       "      <td>0.000002</td>\n",
       "      <td>0.000330</td>\n",
       "      <td>0.000430</td>\n",
       "      <td>0.000980</td>\n",
       "      <td>0.003060</td>\n",
       "      <td>0.026000</td>\n",
       "      <td>0.001610</td>\n",
       "      <td>0.001940</td>\n",
       "      <td>0.002490</td>\n",
       "      <td>0.004840</td>\n",
       "      <td>0.000286</td>\n",
       "      <td>1.659000</td>\n",
       "      <td>0.151020</td>\n",
       "      <td>0.514040</td>\n",
       "      <td>0.021983</td>\n",
       "      <td>0.000830</td>\n",
       "    </tr>\n",
       "    <tr>\n",
       "      <th>25%</th>\n",
       "      <td>58.000000</td>\n",
       "      <td>47.335500</td>\n",
       "      <td>15.000000</td>\n",
       "      <td>21.362000</td>\n",
       "      <td>0.000022</td>\n",
       "      <td>0.001580</td>\n",
       "      <td>0.001825</td>\n",
       "      <td>0.004730</td>\n",
       "      <td>0.019110</td>\n",
       "      <td>0.175000</td>\n",
       "      <td>0.009280</td>\n",
       "      <td>0.010790</td>\n",
       "      <td>0.015660</td>\n",
       "      <td>0.027830</td>\n",
       "      <td>0.010953</td>\n",
       "      <td>19.404000</td>\n",
       "      <td>0.469695</td>\n",
       "      <td>0.596100</td>\n",
       "      <td>0.156385</td>\n",
       "      <td>0.003580</td>\n",
       "    </tr>\n",
       "    <tr>\n",
       "      <th>50%</th>\n",
       "      <td>65.000000</td>\n",
       "      <td>91.754000</td>\n",
       "      <td>20.871000</td>\n",
       "      <td>27.522000</td>\n",
       "      <td>0.000035</td>\n",
       "      <td>0.002250</td>\n",
       "      <td>0.002490</td>\n",
       "      <td>0.006750</td>\n",
       "      <td>0.027530</td>\n",
       "      <td>0.253000</td>\n",
       "      <td>0.013700</td>\n",
       "      <td>0.015940</td>\n",
       "      <td>0.022710</td>\n",
       "      <td>0.041110</td>\n",
       "      <td>0.018448</td>\n",
       "      <td>21.917000</td>\n",
       "      <td>0.542250</td>\n",
       "      <td>0.643550</td>\n",
       "      <td>0.205560</td>\n",
       "      <td>0.004900</td>\n",
       "    </tr>\n",
       "    <tr>\n",
       "      <th>75%</th>\n",
       "      <td>72.000000</td>\n",
       "      <td>138.460000</td>\n",
       "      <td>27.594000</td>\n",
       "      <td>36.400500</td>\n",
       "      <td>0.000053</td>\n",
       "      <td>0.003290</td>\n",
       "      <td>0.003470</td>\n",
       "      <td>0.009880</td>\n",
       "      <td>0.039775</td>\n",
       "      <td>0.365000</td>\n",
       "      <td>0.020605</td>\n",
       "      <td>0.023775</td>\n",
       "      <td>0.032725</td>\n",
       "      <td>0.061805</td>\n",
       "      <td>0.031464</td>\n",
       "      <td>24.445500</td>\n",
       "      <td>0.614045</td>\n",
       "      <td>0.711480</td>\n",
       "      <td>0.264590</td>\n",
       "      <td>0.006800</td>\n",
       "    </tr>\n",
       "    <tr>\n",
       "      <th>max</th>\n",
       "      <td>85.000000</td>\n",
       "      <td>215.490000</td>\n",
       "      <td>39.511000</td>\n",
       "      <td>54.992000</td>\n",
       "      <td>0.000446</td>\n",
       "      <td>0.057540</td>\n",
       "      <td>0.069560</td>\n",
       "      <td>0.172630</td>\n",
       "      <td>0.268630</td>\n",
       "      <td>2.107000</td>\n",
       "      <td>0.162670</td>\n",
       "      <td>0.167020</td>\n",
       "      <td>0.275460</td>\n",
       "      <td>0.488020</td>\n",
       "      <td>0.748260</td>\n",
       "      <td>37.875000</td>\n",
       "      <td>0.966080</td>\n",
       "      <td>0.865600</td>\n",
       "      <td>0.731730</td>\n",
       "      <td>0.099990</td>\n",
       "    </tr>\n",
       "  </tbody>\n",
       "</table>\n",
       "</div>"
      ],
      "text/plain": [
       "               age    test_time  motor_UPDRS  total_UPDRS  Jitter(Absolute)  \\\n",
       "count  5863.000000  5863.000000  5863.000000  5863.000000       5863.000000   \n",
       "mean     64.814771    93.061538    21.289655    29.014090          0.000044   \n",
       "std       8.827750    53.320896     8.133419    10.709966          0.000036   \n",
       "min      36.000000     0.395830     5.037700     7.000000          0.000002   \n",
       "25%      58.000000    47.335500    15.000000    21.362000          0.000022   \n",
       "50%      65.000000    91.754000    20.871000    27.522000          0.000035   \n",
       "75%      72.000000   138.460000    27.594000    36.400500          0.000053   \n",
       "max      85.000000   215.490000    39.511000    54.992000          0.000446   \n",
       "\n",
       "        Jitter:RAP  Jitter:PPQ5   Jitter:DDP      Shimmer  Shimmer(dB)  \\\n",
       "count  5863.000000  5863.000000  5863.000000  5863.000000  5863.000000   \n",
       "mean      0.002988     0.003278     0.008965     0.034038     0.311012   \n",
       "std       0.003126     0.003734     0.009378     0.025836     0.230310   \n",
       "min       0.000330     0.000430     0.000980     0.003060     0.026000   \n",
       "25%       0.001580     0.001825     0.004730     0.019110     0.175000   \n",
       "50%       0.002250     0.002490     0.006750     0.027530     0.253000   \n",
       "75%       0.003290     0.003470     0.009880     0.039775     0.365000   \n",
       "max       0.057540     0.069560     0.172630     0.268630     2.107000   \n",
       "\n",
       "       Shimmer:APQ3  Shimmer:APQ5  Shimmer:APQ11  Shimmer:DDA          NHR  \\\n",
       "count   5863.000000   5863.000000    5863.000000  5863.000000  5863.000000   \n",
       "mean       0.017157      0.020149       0.027489     0.051470     0.032126   \n",
       "std        0.013237      0.016672       0.020002     0.039710     0.059735   \n",
       "min        0.001610      0.001940       0.002490     0.004840     0.000286   \n",
       "25%        0.009280      0.010790       0.015660     0.027830     0.010953   \n",
       "50%        0.013700      0.015940       0.022710     0.041110     0.018448   \n",
       "75%        0.020605      0.023775       0.032725     0.061805     0.031464   \n",
       "max        0.162670      0.167020       0.275460     0.488020     0.748260   \n",
       "\n",
       "               HNR         RPDE          DFA          PPE  Jitter(Percent)  \n",
       "count  5863.000000  5863.000000  5863.000000  5863.000000      5863.000000  \n",
       "mean     21.679527     0.541423     0.653252     0.219618         0.006156  \n",
       "std       4.292521     0.101024     0.070955     0.091494         0.005628  \n",
       "min       1.659000     0.151020     0.514040     0.021983         0.000830  \n",
       "25%      19.404000     0.469695     0.596100     0.156385         0.003580  \n",
       "50%      21.917000     0.542250     0.643550     0.205560         0.004900  \n",
       "75%      24.445500     0.614045     0.711480     0.264590         0.006800  \n",
       "max      37.875000     0.966080     0.865600     0.731730         0.099990  "
      ]
     },
     "execution_count": 1,
     "metadata": {},
     "output_type": "execute_result"
    }
   ],
   "source": [
    "import numpy as np\n",
    "import pandas as pd\n",
    "import seaborn as sns\n",
    "import statsmodels.api as sm\n",
    "import sklearn as s\n",
    "from sklearn import datasets,linear_model\n",
    "from sklearn.linear_model import lasso_path\n",
    "import matplotlib.pyplot as plt\n",
    "from sklearn.model_selection import train_test_split\n",
    "#from matplotlib import pyplot as plt\n",
    "\n",
    "df=pd.read_csv('E:\\Project_Data/Data.csv',sep=',',header=0)\n",
    "df = df[df.test_time >= 0] #removing data with negative testtime\n",
    "df.describe()"
   ]
  },
  {
   "cell_type": "code",
   "execution_count": 2,
   "metadata": {},
   "outputs": [
    {
     "data": {
      "text/html": [
       "<div>\n",
       "<style scoped>\n",
       "    .dataframe tbody tr th:only-of-type {\n",
       "        vertical-align: middle;\n",
       "    }\n",
       "\n",
       "    .dataframe tbody tr th {\n",
       "        vertical-align: top;\n",
       "    }\n",
       "\n",
       "    .dataframe thead th {\n",
       "        text-align: right;\n",
       "    }\n",
       "</style>\n",
       "<table border=\"1\" class=\"dataframe\">\n",
       "  <thead>\n",
       "    <tr style=\"text-align: right;\">\n",
       "      <th></th>\n",
       "      <th>age</th>\n",
       "      <th>test_time</th>\n",
       "      <th>Jitter(Absolute)</th>\n",
       "      <th>Shimmer:APQ11</th>\n",
       "      <th>HNR</th>\n",
       "    </tr>\n",
       "  </thead>\n",
       "  <tbody>\n",
       "    <tr>\n",
       "      <th>0</th>\n",
       "      <td>72</td>\n",
       "      <td>5.6431</td>\n",
       "      <td>0.000034</td>\n",
       "      <td>0.01662</td>\n",
       "      <td>21.640</td>\n",
       "    </tr>\n",
       "    <tr>\n",
       "      <th>1</th>\n",
       "      <td>72</td>\n",
       "      <td>12.6660</td>\n",
       "      <td>0.000017</td>\n",
       "      <td>0.01689</td>\n",
       "      <td>27.183</td>\n",
       "    </tr>\n",
       "    <tr>\n",
       "      <th>2</th>\n",
       "      <td>72</td>\n",
       "      <td>19.6810</td>\n",
       "      <td>0.000025</td>\n",
       "      <td>0.01458</td>\n",
       "      <td>23.047</td>\n",
       "    </tr>\n",
       "    <tr>\n",
       "      <th>3</th>\n",
       "      <td>72</td>\n",
       "      <td>25.6470</td>\n",
       "      <td>0.000027</td>\n",
       "      <td>0.01963</td>\n",
       "      <td>24.445</td>\n",
       "    </tr>\n",
       "    <tr>\n",
       "      <th>4</th>\n",
       "      <td>72</td>\n",
       "      <td>33.6420</td>\n",
       "      <td>0.000020</td>\n",
       "      <td>0.01819</td>\n",
       "      <td>26.126</td>\n",
       "    </tr>\n",
       "  </tbody>\n",
       "</table>\n",
       "</div>"
      ],
      "text/plain": [
       "   age  test_time  Jitter(Absolute)  Shimmer:APQ11     HNR\n",
       "0   72     5.6431          0.000034        0.01662  21.640\n",
       "1   72    12.6660          0.000017        0.01689  27.183\n",
       "2   72    19.6810          0.000025        0.01458  23.047\n",
       "3   72    25.6470          0.000027        0.01963  24.445\n",
       "4   72    33.6420          0.000020        0.01819  26.126"
      ]
     },
     "execution_count": 2,
     "metadata": {},
     "output_type": "execute_result"
    }
   ],
   "source": [
    "from sklearn.model_selection import train_test_split\n",
    "from sklearn.preprocessing import MinMaxScaler\n",
    "X = df.drop([\"motor_UPDRS\",\"total_UPDRS\", \"Jitter(Percent)\", \"Jitter:RAP\", \"Jitter:PPQ5\", \"Jitter:DDP\", \"Shimmer\", \"Shimmer(dB)\", \"Shimmer:APQ3\", \"Shimmer:APQ5\", \"Shimmer:DDA\",\"NHR\",\"RPDE\",\"DFA\",\"PPE\"], axis=1)\n",
    "X.head()"
   ]
  },
  {
   "cell_type": "code",
   "execution_count": 3,
   "metadata": {},
   "outputs": [
    {
     "data": {
      "text/plain": [
       "0    0.16006\n",
       "1    0.10810\n",
       "2    0.21014\n",
       "3    0.33277\n",
       "4    0.19361\n",
       "Name: PPE, dtype: float64"
      ]
     },
     "execution_count": 3,
     "metadata": {},
     "output_type": "execute_result"
    }
   ],
   "source": [
    "#Y = df.drop([\"motor_UPDRS\",\"total_UPDRS\", \"Jitter(Percent)\", \"Jitter:RAP\", \"Jitter:PPQ5\", \"Jitter:DDP\", \"Shimmer\", \"Shimmer(dB)\", \"Shimmer:APQ3\", \"Shimmer:APQ5\", \"Shimmer:DDA\",\"age\",\"test_time\",\"Jitter(Absolute)\",\"Shimmer:APQ11\",\"HNR\"], axis=1)\n",
    "Y= df[\"PPE\"]\n",
    "Y.head()"
   ]
  },
  {
   "cell_type": "code",
   "execution_count": 4,
   "metadata": {},
   "outputs": [
    {
     "name": "stderr",
     "output_type": "stream",
     "text": [
      "C:\\Users\\Namrata\\Anaconda3\\lib\\site-packages\\ipykernel_launcher.py:2: FutureWarning: Method .as_matrix will be removed in a future version. Use .values instead.\n",
      "  \n",
      "C:\\Users\\Namrata\\Anaconda3\\lib\\site-packages\\ipykernel_launcher.py:3: FutureWarning: Method .as_matrix will be removed in a future version. Use .values instead.\n",
      "  This is separate from the ipykernel package so we can avoid doing imports until\n"
     ]
    }
   ],
   "source": [
    "# Converts target and features to numpy arrays for sklearn API\n",
    "target_y = Y.as_matrix()\n",
    "features_x = X.as_matrix()"
   ]
  },
  {
   "cell_type": "code",
   "execution_count": 5,
   "metadata": {},
   "outputs": [],
   "source": [
    "# Split into train and test sets\n",
    "X_train, X_test, Y_train, Y_test = train_test_split(features_x, target_y, test_size=0.18, random_state=0)\n"
   ]
  },
  {
   "cell_type": "code",
   "execution_count": 6,
   "metadata": {},
   "outputs": [
    {
     "data": {
      "text/plain": [
       "array([0.16266304, 0.22451603, 0.15607611, 0.23366368, 0.14967596])"
      ]
     },
     "execution_count": 6,
     "metadata": {},
     "output_type": "execute_result"
    }
   ],
   "source": [
    "lm = linear_model.LinearRegression() #LinearRegression apply\n",
    "model = lm.fit(X_train, Y_train) #actual \"learning\" happens here\n",
    "predictions = lm.predict(X_test)\n",
    "predictions[0:5]"
   ]
  },
  {
   "cell_type": "code",
   "execution_count": 7,
   "metadata": {},
   "outputs": [
    {
     "data": {
      "text/plain": [
       "0.6883075055661627"
      ]
     },
     "execution_count": 7,
     "metadata": {},
     "output_type": "execute_result"
    }
   ],
   "source": [
    "from sklearn.metrics import explained_variance_score #The best possible score is 1.0, lower values are worse.\n",
    "explained_variance_score(Y_test, predictions) #linearRegressionEVS"
   ]
  },
  {
   "cell_type": "code",
   "execution_count": 8,
   "metadata": {},
   "outputs": [
    {
     "data": {
      "text/plain": [
       "array([0.21922, 0.16814, 0.19422, 0.1893 , 0.12378])"
      ]
     },
     "execution_count": 8,
     "metadata": {},
     "output_type": "execute_result"
    }
   ],
   "source": [
    "# import the regressor \n",
    "from sklearn.tree import DecisionTreeRegressor #DecisionTreeRegression\n",
    "\n",
    "# create a regressor object \n",
    "regressor = DecisionTreeRegressor(random_state = 0) \n",
    "\n",
    "# fit the regressor with X and Y data \n",
    "regressor.fit(X_train, Y_train)\n",
    "predictions1 = regressor.predict(X_test)\n",
    "predictions1[0:5]"
   ]
  },
  {
   "cell_type": "code",
   "execution_count": 9,
   "metadata": {},
   "outputs": [
    {
     "data": {
      "text/plain": [
       "0.5805920736759653"
      ]
     },
     "execution_count": 9,
     "metadata": {},
     "output_type": "execute_result"
    }
   ],
   "source": [
    "from sklearn.metrics import explained_variance_score #The best possible score is 1.0, lower values are worse.\n",
    "explained_variance_score(Y_test, predictions1) #DecisionTreeEVS"
   ]
  },
  {
   "cell_type": "code",
   "execution_count": 10,
   "metadata": {},
   "outputs": [
    {
     "data": {
      "text/plain": [
       "array([0.2032783 , 0.18235955, 0.17454123, 0.21193419, 0.11750948])"
      ]
     },
     "execution_count": 10,
     "metadata": {},
     "output_type": "execute_result"
    }
   ],
   "source": [
    "from sklearn.ensemble import RandomForestRegressor #RandomForestRegression\n",
    "\n",
    "regressor1 = RandomForestRegressor(n_estimators=1000, random_state=1)  \n",
    "regressor1.fit(X_train, Y_train)  \n",
    "predictions2= regressor1.predict(X_test)\n",
    "predictions2[0:5]"
   ]
  },
  {
   "cell_type": "code",
   "execution_count": 11,
   "metadata": {},
   "outputs": [
    {
     "data": {
      "text/plain": [
       "0.7706663073824689"
      ]
     },
     "execution_count": 11,
     "metadata": {},
     "output_type": "execute_result"
    }
   ],
   "source": [
    "from sklearn.metrics import explained_variance_score #The best possible score is 1.0, lower values are worse.\n",
    "explained_variance_score(Y_test, predictions2) #Random Forest EVS"
   ]
  },
  {
   "cell_type": "code",
   "execution_count": 12,
   "metadata": {},
   "outputs": [
    {
     "data": {
      "text/plain": [
       "array([0.14959337, 0.21774729, 0.13628349, 0.23554934, 0.13141371])"
      ]
     },
     "execution_count": 12,
     "metadata": {},
     "output_type": "execute_result"
    }
   ],
   "source": [
    "from sklearn.preprocessing import PolynomialFeatures #PolynomialRegression\n",
    "from sklearn.linear_model import LinearRegression\n",
    "# PolynomialFeatures (prepreprocessing)\n",
    "poly = PolynomialFeatures(degree=2)\n",
    "X_ = poly.fit_transform(X_train)\n",
    "X_test_ = poly.fit_transform(X_test)\n",
    "# Instantiate\n",
    "lg = LinearRegression()\n",
    "\n",
    "# Fit\n",
    "lg.fit(X_, Y_train)\n",
    "\n",
    "# Obtain coefficients\n",
    "lg.coef_\n",
    "# Predict\n",
    "predictions3=lg.predict(X_test_)\n",
    "predictions3[0:5]"
   ]
  },
  {
   "cell_type": "code",
   "execution_count": 13,
   "metadata": {},
   "outputs": [
    {
     "data": {
      "text/plain": [
       "0.7126337016021456"
      ]
     },
     "execution_count": 13,
     "metadata": {},
     "output_type": "execute_result"
    }
   ],
   "source": [
    "from sklearn.metrics import explained_variance_score #The best possible score is 1.0, lower values are worse.\n",
    "explained_variance_score(Y_test, predictions3) #Polynomial EVS"
   ]
  },
  {
   "cell_type": "code",
   "execution_count": 14,
   "metadata": {},
   "outputs": [
    {
     "data": {
      "text/plain": [
       "array([0.205595, 0.25095 , 0.17027 , 0.20581 , 0.15963 ])"
      ]
     },
     "execution_count": 14,
     "metadata": {},
     "output_type": "execute_result"
    }
   ],
   "source": [
    "from sklearn.neighbors import KNeighborsRegressor #KNeighboursRegression\n",
    "neigh = KNeighborsRegressor(n_neighbors=2)\n",
    "neigh.fit(X_train, Y_train) \n",
    "KNeighborsRegressor(...)\n",
    "predictions4=(neigh.predict(X_test))\n",
    "predictions4[0:5]"
   ]
  },
  {
   "cell_type": "code",
   "execution_count": 15,
   "metadata": {},
   "outputs": [
    {
     "data": {
      "text/plain": [
       "0.5792156720420507"
      ]
     },
     "execution_count": 15,
     "metadata": {},
     "output_type": "execute_result"
    }
   ],
   "source": [
    "from sklearn.metrics import explained_variance_score #The best possible score is 1.0, lower values are worse.\n",
    "explained_variance_score(Y_test, predictions4) #KNN EVS"
   ]
  },
  {
   "cell_type": "code",
   "execution_count": 16,
   "metadata": {},
   "outputs": [],
   "source": [
    "# Scale features\n",
    "min_max_scaler = MinMaxScaler()\n",
    "X_train_minmax = min_max_scaler.fit_transform(X_train)\n",
    "X_test_minmax = min_max_scaler.fit_transform(X_test)"
   ]
  },
  {
   "cell_type": "code",
   "execution_count": 17,
   "metadata": {},
   "outputs": [
    {
     "name": "stderr",
     "output_type": "stream",
     "text": [
      "C:\\Users\\Namrata\\Anaconda3\\lib\\site-packages\\sklearn\\model_selection\\_split.py:2053: FutureWarning: You should specify a value for 'cv' instead of relying on the default value. The default value will change from 3 to 5 in version 0.22.\n",
      "  warnings.warn(CV_WARNING, FutureWarning)\n"
     ]
    }
   ],
   "source": [
    "from sklearn.svm import SVR\n",
    "from sklearn.model_selection import GridSearchCV, RandomizedSearchCV\n",
    "from scipy.stats import randint, expon\n",
    "\n",
    "# Hyperparameter optimization: \n",
    "# Use randomized search for drastically faster param tuning. \n",
    "# TODO: Compare with kernel ridge regression and other algos\n",
    "\n",
    "params = {'C': expon(scale=100), 'gamma': expon(scale=.1),\n",
    "  'kernel': ['linear', 'rbf']}\n",
    "\n",
    "svr = SVR()\n",
    "\n",
    "n_iter_search = 200\n",
    "clf = RandomizedSearchCV(svr, param_distributions=params,\n",
    "                                   n_iter=n_iter_search)\n",
    "\n",
    "clf.fit(X_train_minmax, Y_train)\n",
    "\n",
    "clf.best_estimator_\n",
    "\n",
    "y_pred = clf.predict(X_test_minmax)"
   ]
  },
  {
   "cell_type": "code",
   "execution_count": 18,
   "metadata": {},
   "outputs": [
    {
     "data": {
      "text/plain": [
       "0.6451582878696889"
      ]
     },
     "execution_count": 18,
     "metadata": {},
     "output_type": "execute_result"
    }
   ],
   "source": [
    "from sklearn.metrics import explained_variance_score #The best possible score is 1.0, lower values are worse.\n",
    "explained_variance_score(Y_test, y_pred) #SVM EVS"
   ]
  },
  {
   "cell_type": "code",
   "execution_count": null,
   "metadata": {},
   "outputs": [],
   "source": []
  }
 ],
 "metadata": {
  "kernelspec": {
   "display_name": "Python 3",
   "language": "python",
   "name": "python3"
  },
  "language_info": {
   "codemirror_mode": {
    "name": "ipython",
    "version": 3
   },
   "file_extension": ".py",
   "mimetype": "text/x-python",
   "name": "python",
   "nbconvert_exporter": "python",
   "pygments_lexer": "ipython3",
   "version": "3.7.1"
  }
 },
 "nbformat": 4,
 "nbformat_minor": 2
}
