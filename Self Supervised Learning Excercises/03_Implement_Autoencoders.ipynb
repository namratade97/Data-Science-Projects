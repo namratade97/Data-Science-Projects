{
 "cells": [
  {
   "cell_type": "markdown",
   "metadata": {},
   "source": [
    "\\###### Welcome to your third assignment!\n",
    "\n",
    "Please submit your solution of this notebook in the Whiteboard at the corresponding Assignment entry. We need you to upload the .ipynb-file and the exported .pdf of this notebook.\n",
    "\n",
    "If you have any questions, ask them in either in the tutorials or in the \"Mattermost\" channel: https://mattermost.imp.fu-berlin.de/biorobotics/channels/ssl_ws_2324\n",
    "\n",
    "\n",
    "In this assignment, we want you to explore Autoencoders."
   ]
  },
  {
   "cell_type": "markdown",
   "metadata": {},
   "source": [
    "# Slide Review\n",
    "\n",
    "[Google Form](https://forms.gle/ZgL1p9g1T9GgtAkVA) for the slide review. Please take a minute to scroll over the slides again and improve your lecture.\n",
    "\n",
    "Please make sure to only choose your top 5 slides per lecture!"
   ]
  },
  {
   "cell_type": "markdown",
   "metadata": {},
   "source": [
    "# PapagAI\n",
    "\n",
    "From the second week onwards we started the reflective study.\n",
    "Register on the [PapagAI website](https://www.papag.ai) and write your first reflection about your impressions and challenges in the context of the lectures and tutorials you had this and previous week. The size of reflection can be anywhere bigger than 100 words. You can check out this [YouTube video](https://www.youtube.com/watch?v=QdmZHocZQBk&ab_channel=FernandoRamosL%C3%B3pez) with instructions on how to register, create a reflection and get an ai feedback.\n",
    "\n",
    "Please note, that this task is an obligatory one for this course and make sure each of you does the reflection, not only one person per group."
   ]
  },
  {
   "cell_type": "markdown",
   "metadata": {},
   "source": [
    "#### Please state both names of your group members here:\n",
    "Authors: Namrata De, Manasi Acharya"
   ]
  },
  {
   "cell_type": "markdown",
   "metadata": {},
   "source": [
    "# Assignment 3: Autoencoder\n",
    "\n",
    "This week's lecture introduced Autoencoders (AE), Denoising Autoencoders (DAE), and Masked Autoencoders (MAE). We want you to implement solutions for each approach in the following exercises. They will all use the MNIST images dataset, like the previous assignments. Here are the paper-links for you to read up on them:\n",
    "\n",
    "AE - [Paper](https://www.cs.toronto.edu/~hinton/absps/science.pdf) <br>\n",
    "DAE - [Paper](https://www.cs.toronto.edu/~larocheh/publications/icml-2008-denoising-autoencoders.pdf) <br>\n",
    "MAE - [Paper](https://arxiv.org/pdf/2111.06377.pdf) <br>\n",
    "\n",
    "\n",
    "## Ex. 3.1 Autoencoder for Compression\n",
    "\n",
    "Build an Autoencoder with a compressed latent space. You should use Convolution for downscaling and Deconvolution for upscaling. **(RESULT)**\n",
    "\n",
    "Train your model on MNIST images and compare at least 5 original and reconstructed images visually. **(RESULT)**"
   ]
  },
  {
   "cell_type": "code",
   "execution_count": 1,
   "metadata": {},
   "outputs": [],
   "source": [
    "import numpy as np\n",
    "import matplotlib.pyplot as plt\n",
    "\n",
    "\n",
    "from keras.models import Model\n",
    "from keras.datasets import mnist\n",
    "\n",
    "\n",
    "from keras.layers import Input, Dense, Conv2D, MaxPooling2D, UpSampling2D\n"
   ]
  },
  {
   "cell_type": "code",
   "execution_count": 2,
   "metadata": {},
   "outputs": [
    {
     "name": "stdout",
     "output_type": "stream",
     "text": [
      "Epoch 1/10\n",
      "469/469 [==============================] - 73s 141ms/step - loss: 0.2340 - val_loss: 0.1667\n",
      "Epoch 2/10\n",
      "469/469 [==============================] - 64s 137ms/step - loss: 0.1544 - val_loss: 0.1447\n",
      "Epoch 3/10\n",
      "469/469 [==============================] - 64s 136ms/step - loss: 0.1415 - val_loss: 0.1366\n",
      "Epoch 4/10\n",
      "469/469 [==============================] - 65s 139ms/step - loss: 0.1348 - val_loss: 0.1311\n",
      "Epoch 5/10\n",
      "469/469 [==============================] - 67s 143ms/step - loss: 0.1301 - val_loss: 0.1279\n",
      "Epoch 6/10\n",
      "469/469 [==============================] - 68s 144ms/step - loss: 0.1267 - val_loss: 0.1241\n",
      "Epoch 7/10\n",
      "469/469 [==============================] - 65s 138ms/step - loss: 0.1241 - val_loss: 0.1220\n",
      "Epoch 8/10\n",
      "469/469 [==============================] - 64s 136ms/step - loss: 0.1221 - val_loss: 0.1202\n",
      "Epoch 9/10\n",
      "469/469 [==============================] - 64s 135ms/step - loss: 0.1204 - val_loss: 0.1186\n",
      "Epoch 10/10\n",
      "469/469 [==============================] - 64s 137ms/step - loss: 0.1190 - val_loss: 0.1171\n",
      "313/313 [==============================] - 9s 28ms/step\n"
     ]
    },
    {
     "data": {
      "image/png": "[encoded data removed]",
      "text/plain": [
       "<Figure size 1000x400 with 10 Axes>"
      ]
     },
     "metadata": {},
     "output_type": "display_data"
    }
   ],
   "source": [
    "\n",
    "# Load MNIST dataset\n",
    "(x_train, _), (x_test, _) = mnist.load_data()\n",
    "\n",
    "# Normalize pixel values to be between 0 and 1\n",
    "x_train = x_train.astype('float32') / 255.0\n",
    "x_test = x_test.astype('float32') / 255.0\n",
    "\n",
    "# Reshape data to (samples, height, width, channels)\n",
    "x_train = np.reshape(x_train, (len(x_train), 28, 28, 1))\n",
    "x_test = np.reshape(x_test, (len(x_test), 28, 28, 1))\n",
    "\n",
    "# Encoder\n",
    "input_img = Input(shape=(28, 28, 1))\n",
    "x = Conv2D(16, (3, 3), activation='relu', padding='same')(input_img)\n",
    "x = MaxPooling2D((2, 2), padding='same')(x)\n",
    "x = Conv2D(8, (3, 3), activation='relu', padding='same')(x)\n",
    "x = MaxPooling2D((2, 2), padding='same')(x)\n",
    "x = Conv2D(4, (3, 3), activation='relu', padding='same')(x)\n",
    "encoded = MaxPooling2D((2, 2), padding='same')(x)\n",
    "\n",
    "# Decoder\n",
    "x = Conv2D(4, (3, 3), activation='relu', padding='same')(encoded)\n",
    "x = UpSampling2D((2, 2))(x)\n",
    "x = Conv2D(8, (3, 3), activation='relu', padding='same')(x)\n",
    "x = UpSampling2D((2, 2))(x)\n",
    "x = Conv2D(16, (3, 3), activation='relu')(x)\n",
    "x = UpSampling2D((2, 2))(x)\n",
    "decoded = Conv2D(1, (3, 3), activation='sigmoid', padding='same')(x)\n",
    "\n",
    "# Autoencoder model\n",
    "autoencoder = Model(input_img, decoded)\n",
    "autoencoder.compile(optimizer='adam', loss='binary_crossentropy')\n",
    "\n",
    "# Training\n",
    "autoencoder.fit(x_train, x_train, epochs=10, batch_size=128, shuffle=True, validation_data=(x_test, x_test))\n",
    "\n",
    "# Model evaluation\n",
    "decoded_imgs = autoencoder.predict(x_test)\n",
    "\n",
    "# original and reconstructed images\n",
    "n = 5  # Number of images\n",
    "plt.figure(figsize=(10, 4))\n",
    "for i in range(n):\n",
    "    # Original Images\n",
    "    ax = plt.subplot(2, n, i + 1)\n",
    "    plt.imshow(x_test[i].reshape(28, 28))\n",
    "    plt.gray()\n",
    "    ax.get_xaxis().set_visible(False)\n",
    "    ax.get_yaxis().set_visible(False)\n",
    "\n",
    "    # Reconstructed Images\n",
    "    ax = plt.subplot(2, n, i + 1 + n)\n",
    "    plt.imshow(decoded_imgs[i].reshape(28, 28))\n",
    "    plt.gray()\n",
    "    ax.get_xaxis().set_visible(False)\n",
    "    ax.get_yaxis().set_visible(False)\n",
    "\n",
    "plt.show()\n"
   ]
  },
  {
   "cell_type": "markdown",
   "metadata": {},
   "source": [
    "## Ex. 3.2 Denoising AE\n",
    "\n",
    "As a second exercise, we want you to build a denoising autoencoder (DAE). The DAE may have more latent dimensions than input dimensions. The training on noisy inputs prevents it from learning the identity function. Therefore, using a bigger latent space is possible, too. Make sure to use the original inputs for computing the loss.\n",
    "\n",
    "- Build a DAE with more hidden dimensions than input dimensions. **(RESULT)** Usually a higher channel count provides a bigger latent space, while the spatial dimentsion are reduced.\n",
    "\n",
    "- Train it on MNIST samples that have two different flavours of noise applied to them. Show at least 5 denoised samples with your model and compare them visually to the respective input  **(RESULT)**\n",
    "\n",
    "- Compare two different loss functions and their effect on the model's reconstruction performance. **(RESULT)**"
   ]
  },
  {
   "cell_type": "code",
   "execution_count": 3,
   "metadata": {},
   "outputs": [
    {
     "name": "stdout",
     "output_type": "stream",
     "text": [
      "Epoch 1/10\n",
      "469/469 [==============================] - 7s 13ms/step - loss: 0.0459 - val_loss: 0.0270\n",
      "Epoch 2/10\n",
      "469/469 [==============================] - 4s 8ms/step - loss: 0.0234 - val_loss: 0.0202\n",
      "Epoch 3/10\n",
      "469/469 [==============================] - 5s 12ms/step - loss: 0.0192 - val_loss: 0.0179\n",
      "Epoch 4/10\n",
      "469/469 [==============================] - 5s 11ms/step - loss: 0.0175 - val_loss: 0.0168\n",
      "Epoch 5/10\n",
      "469/469 [==============================] - 5s 11ms/step - loss: 0.0166 - val_loss: 0.0163\n",
      "Epoch 6/10\n",
      "469/469 [==============================] - 6s 12ms/step - loss: 0.0160 - val_loss: 0.0159\n",
      "Epoch 7/10\n",
      "469/469 [==============================] - 4s 8ms/step - loss: 0.0156 - val_loss: 0.0155\n",
      "Epoch 8/10\n",
      "469/469 [==============================] - 4s 8ms/step - loss: 0.0153 - val_loss: 0.0153\n",
      "Epoch 9/10\n",
      "469/469 [==============================] - 4s 9ms/step - loss: 0.0150 - val_loss: 0.0152\n",
      "Epoch 10/10\n",
      "469/469 [==============================] - 5s 10ms/step - loss: 0.0148 - val_loss: 0.0150\n",
      "313/313 [==============================] - 1s 4ms/step\n"
     ]
    },
    {
     "data": {
      "image/png": "[encoded data removed]",
      "text/plain": [
       "<Figure size 1000x400 with 15 Axes>"
      ]
     },
     "metadata": {},
     "output_type": "display_data"
    }
   ],
   "source": [
    "import numpy as np\n",
    "import matplotlib.pyplot as plt\n",
    "\n",
    "from keras.layers import Input, Dense, Conv2D, MaxPooling2D, UpSampling2D\n",
    "from keras.models import Model\n",
    "from keras.datasets import mnist\n",
    "from keras.losses import mean_squared_error, binary_crossentropy\n",
    "from keras.optimizers import Adam\n",
    "\n",
    "# Load MNIST dataset\n",
    "(x_train, _), (x_test, _) = mnist.load_data()\n",
    "\n",
    "# Normalize pixel values to be between 0 and 1\n",
    "x_train = x_train.astype('float32') / 255.0\n",
    "x_test = x_test.astype('float32') / 255.0\n",
    "\n",
    "# Adding noise to the data\n",
    "noise_factor = 0.5\n",
    "x_train_noisy = x_train + noise_factor * np.random.normal(loc=0.0, scale=1.0, size=x_train.shape)\n",
    "x_test_noisy = x_test + noise_factor * np.random.normal(loc=0.0, scale=1.0, size=x_test.shape)\n",
    "\n",
    "# Clip the values to be between 0 and 1\n",
    "x_train_noisy = np.clip(x_train_noisy, 0., 1.)\n",
    "x_test_noisy = np.clip(x_test_noisy, 0., 1.)\n",
    "\n",
    "# Flatten the images for Dense layers\n",
    "x_train = x_train.reshape((len(x_train), np.prod(x_train.shape[1:])))\n",
    "x_test = x_test.reshape((len(x_test), np.prod(x_test.shape[1:])))\n",
    "x_train_noisy = x_train_noisy.reshape((len(x_train_noisy), np.prod(x_train_noisy.shape[1:])))\n",
    "x_test_noisy = x_test_noisy.reshape((len(x_test_noisy), np.prod(x_test_noisy.shape[1:])))\n",
    "\n",
    "# DAE architecture\n",
    "input_img = Input(shape=(784,))\n",
    "encoded = Dense(128, activation='relu')(input_img)  # Bigger latent space\n",
    "decoded = Dense(784, activation='sigmoid')(encoded)\n",
    "\n",
    "dae = Model(input_img, decoded)\n",
    "\n",
    "# loss functions (mean squared error and binary crossentropy)\n",
    "loss_function_1 = mean_squared_error\n",
    "loss_function_2 = binary_crossentropy\n",
    "\n",
    "# Compile the mode\n",
    "dae.compile(optimizer=Adam(learning_rate=0.001), loss=loss_function_1)\n",
    "\n",
    "# Train DAE\n",
    "dae.fit(x_train_noisy, x_train, epochs=10, batch_size=128, shuffle=True, validation_data=(x_test_noisy, x_test))\n",
    "\n",
    "# Model evaluation and visualization\n",
    "decoded_imgs = dae.predict(x_test_noisy)\n",
    "\n",
    "# Display original, noisy, and denoised images\n",
    "n = 5  # Number of images to display\n",
    "plt.figure(figsize=(10, 4))\n",
    "for i in range(n):\n",
    "    # Original Images\n",
    "    ax = plt.subplot(3, n, i + 1)\n",
    "    plt.imshow(x_test[i].reshape(28, 28))\n",
    "    plt.gray()\n",
    "    ax.get_xaxis().set_visible(False)\n",
    "    ax.get_yaxis().set_visible(False)\n",
    "\n",
    "    # Noisy Images\n",
    "    ax = plt.subplot(3, n, i + 1 + n)\n",
    "    plt.imshow(x_test_noisy[i].reshape(28, 28))\n",
    "    plt.gray()\n",
    "    ax.get_xaxis().set_visible(False)\n",
    "    ax.get_yaxis().set_visible(False)\n",
    "\n",
    "    # Denoised Images\n",
    "    ax = plt.subplot(3, n, i + 1 + 2 * n)\n",
    "    plt.imshow(decoded_imgs[i].reshape(28, 28))\n",
    "    plt.gray()\n",
    "    ax.get_xaxis().set_visible(False)\n",
    "    ax.get_yaxis().set_visible(False)\n",
    "\n",
    "plt.show()\n"
   ]
  },
  {
   "cell_type": "markdown",
   "metadata": {},
   "source": [
    "## Ex. 3.3 Masked AE (BONUS)\n",
    "\n",
    "Implement a Masked Autoencoder (MAE) model for image data, i.e. the MNIST data. Can you build representations using fully connected or convolutional layers? You don't have to implement a Transformer as an Encoder or Decoder for this exercise. **(RESULT)**\n",
    "\n",
    "Make sure to utilize image-patching. The masking token can be fixed and does not have to be learnable by the Decoder.\n",
    "\n",
    "Check the performance of your Autoencoder on a the finetuning classification task on the MNIST test dataset. Report on the accuracy using your learned representations. **(RESULT)**\n",
    "\n",
    "Bonus question: What can you do to account for information leekage in the MAE that uses Convolutional Layers?"
   ]
  },
  {
   "cell_type": "code",
   "execution_count": 2,
   "metadata": {},
   "outputs": [
    {
     "name": "stdout",
     "output_type": "stream",
     "text": [
      "Epoch 1/5\n",
      "24415/24415 [==============================] - 432s 18ms/step - loss: 2.5874e-04 - val_loss: 4.6732e-06\n",
      "Epoch 2/5\n",
      "24415/24415 [==============================] - 334s 14ms/step - loss: 3.6968e-06 - val_loss: 1.7918e-06\n",
      "Epoch 3/5\n",
      "24415/24415 [==============================] - 337s 14ms/step - loss: 1.8847e-06 - val_loss: 8.0043e-07\n",
      "Epoch 4/5\n",
      "24415/24415 [==============================] - 334s 14ms/step - loss: 1.2750e-06 - val_loss: 1.4930e-06\n",
      "Epoch 5/5\n",
      "24415/24415 [==============================] - 335s 14ms/step - loss: 1.0145e-06 - val_loss: 4.9467e-07\n"
     ]
    },
    {
     "data": {
      "text/plain": [
       "<keras.src.callbacks.History at 0x1fe534cca50>"
      ]
     },
     "execution_count": 2,
     "metadata": {},
     "output_type": "execute_result"
    }
   ],
   "source": [
    "import numpy as np\n",
    "import tensorflow as tf\n",
    "from tensorflow.keras.layers import Input, Conv2D, Flatten, Dense, Reshape, Conv2DTranspose\n",
    "from tensorflow.keras.models import Model\n",
    "from tensorflow.keras.datasets import mnist\n",
    "from sklearn.feature_extraction.image import extract_patches_2d\n",
    "\n",
    "# Load MNIST dataset\n",
    "(train_images, _), (test_images, _) = mnist.load_data()\n",
    "train_images = train_images[:5000] / 255.0  # Use a subset of the dataset\n",
    "test_images = test_images[:1000] / 255.0  # Use a subset of the dataset\n",
    "\n",
    "# parameters for image patching\n",
    "patch_size = (4, 4)\n",
    "\n",
    "# Extract image patches\n",
    "def extract_patches(images):\n",
    "    patches = []\n",
    "    for image in images:\n",
    "        image_patches = extract_patches_2d(image, patch_size, max_patches=None, random_state=None)\n",
    "        patches.extend(image_patches)\n",
    "    return np.array(patches)\n",
    "\n",
    "train_patches = extract_patches(train_images)\n",
    "test_patches = extract_patches(test_images)\n",
    "\n",
    "# input shape\n",
    "input_shape = patch_size + (1,)\n",
    "\n",
    "# encoder\n",
    "input_patch = Input(shape=input_shape)\n",
    "x = Conv2D(32, (3, 3), activation='relu', padding='same')(input_patch)\n",
    "encoded = Conv2D(64, (3, 3), activation='relu', padding='same')(x)\n",
    "\n",
    "#  decoder\n",
    "x = Conv2DTranspose(64, (3, 3), activation='relu', padding='same')(encoded)\n",
    "decoded = Conv2DTranspose(1, (3, 3), activation='sigmoid', padding='same')(x)\n",
    "\n",
    "# autoencoder model\n",
    "autoencoder = Model(input_patch, decoded)\n",
    "\n",
    "autoencoder.compile(optimizer='adam', loss='mean_squared_error')\n",
    "autoencoder.fit(train_patches, train_patches, epochs=5, batch_size=128, validation_data=(test_patches, test_patches))\n"
   ]
  },
  {
   "cell_type": "code",
   "execution_count": 8,
   "metadata": {},
   "outputs": [
    {
     "name": "stdout",
     "output_type": "stream",
     "text": [
      "19532/19532 [==============================] - 60s 3ms/step\n"
     ]
    }
   ],
   "source": [
    "predicted_test_patches = autoencoder.predict(test_patches)"
   ]
  },
  {
   "cell_type": "code",
   "execution_count": 23,
   "metadata": {},
   "outputs": [],
   "source": [
    "# Get the shape of the test patches\n",
    "num_patches, patch_height, patch_width, _ = predicted_test_patches.shape\n",
    "\n",
    "# Reshape the predicted patches to match the original size\n",
    "predicted_test_images = predicted_test_patches.reshape(num_patches, patch_height, patch_width, 1)\n"
   ]
  },
  {
   "cell_type": "code",
   "execution_count": null,
   "metadata": {},
   "outputs": [],
   "source": []
  }
 ],
 "metadata": {
  "kernelspec": {
   "display_name": "Python 3 (ipykernel)",
   "language": "python",
   "name": "python3"
  },
  "language_info": {
   "codemirror_mode": {
    "name": "ipython",
    "version": 3
   },
   "file_extension": ".py",
   "mimetype": "text/x-python",
   "name": "python",
   "nbconvert_exporter": "python",
   "pygments_lexer": "ipython3",
   "version": "3.9.12"
  }
 },
 "nbformat": 4,
 "nbformat_minor": 4
}
